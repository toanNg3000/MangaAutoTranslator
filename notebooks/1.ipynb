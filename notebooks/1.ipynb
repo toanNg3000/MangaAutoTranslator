{
 "cells": [
  {
   "cell_type": "code",
   "execution_count": null,
   "metadata": {},
   "outputs": [
    {
     "name": "stdout",
     "output_type": "stream",
     "text": [
      "\n",
      "image 1/1 C:\\Users\\User\\Workspaces\\GIT\\MangaAutoTranslator\\dataset\\part_1\\00fd0625efee4c8186510fdf583fcb21.jpg: 640x512 (no detections), 62.2ms\n",
      "Speed: 5.7ms preprocess, 62.2ms inference, 0.0ms postprocess per image at shape (1, 3, 640, 512)\n"
     ]
    }
   ],
   "source": [
    "from ultralytics import YOLO\n",
    "\n",
    "class TextDetector(YOLO):\n",
    "    def __init__(self):\n",
    "        # model_path = 'models/text_detect/best.pt'\n",
    "        model_path = 'C:/Users/User/Workspaces/GIT/MangaAutoTranslator/mltranslator/models/detection/text_detect/best.pt'\n",
    "        super().__init__(model_path,)\n",
    "\n",
    "text_detector = TextDetector()\n"
   ]
  },
  {
   "cell_type": "code",
   "execution_count": 10,
   "metadata": {},
   "outputs": [
    {
     "name": "stdout",
     "output_type": "stream",
     "text": [
      "\n",
      "image 1/1 C:\\Users\\User\\Workspaces\\GIT\\MangaAutoTranslator\\dataset\\part_1\\00f00892acfa4ebfb947836e44570c2a.jpg: 640x288 8 Texts, 45.1ms\n",
      "Speed: 0.0ms preprocess, 45.1ms inference, 2.4ms postprocess per image at shape (1, 3, 640, 288)\n"
     ]
    }
   ],
   "source": [
    "\n",
    "image_path = \"C:/Users/User/Workspaces/GIT/MangaAutoTranslator/dataset/part_1/00f00892acfa4ebfb947836e44570c2a.jpg\"\n",
    "# image_path = \"C:/Users/User/Workspaces/GIT/MangaAutoTranslator/dataset/part_1/00fd0625efee4c8186510fdf583fcb21.jpg\"\n",
    "# 00f00892acfa4ebfb947836e44570c2a\n",
    "results = text_detector.predict(image_path)\n"
   ]
  },
  {
   "cell_type": "code",
   "execution_count": 11,
   "metadata": {},
   "outputs": [
    {
     "data": {
      "text/plain": [
       "[ultralytics.engine.results.Results object with attributes:\n",
       " \n",
       " boxes: ultralytics.engine.results.Boxes object\n",
       " keypoints: None\n",
       " masks: None\n",
       " names: {0: 'Text', 1: 'sfx'}\n",
       " obb: None\n",
       " orig_img: array([[[255, 255, 255],\n",
       "         [255, 255, 255],\n",
       "         [255, 255, 255],\n",
       "         ...,\n",
       "         [255, 255, 255],\n",
       "         [255, 255, 255],\n",
       "         [255, 255, 255]],\n",
       " \n",
       "        [[255, 255, 255],\n",
       "         [255, 255, 255],\n",
       "         [255, 255, 255],\n",
       "         ...,\n",
       "         [255, 255, 255],\n",
       "         [255, 255, 255],\n",
       "         [255, 255, 255]],\n",
       " \n",
       "        [[255, 255, 255],\n",
       "         [255, 255, 255],\n",
       "         [255, 255, 255],\n",
       "         ...,\n",
       "         [255, 255, 255],\n",
       "         [255, 255, 255],\n",
       "         [255, 255, 255]],\n",
       " \n",
       "        ...,\n",
       " \n",
       "        [[255, 255, 255],\n",
       "         [255, 255, 255],\n",
       "         [255, 255, 255],\n",
       "         ...,\n",
       "         [253, 255, 255],\n",
       "         [255, 255, 255],\n",
       "         [255, 255, 255]],\n",
       " \n",
       "        [[255, 255, 255],\n",
       "         [255, 255, 255],\n",
       "         [255, 255, 255],\n",
       "         ...,\n",
       "         [253, 255, 255],\n",
       "         [255, 255, 255],\n",
       "         [255, 255, 255]],\n",
       " \n",
       "        [[255, 255, 255],\n",
       "         [255, 255, 255],\n",
       "         [255, 255, 255],\n",
       "         ...,\n",
       "         [253, 255, 255],\n",
       "         [255, 255, 255],\n",
       "         [255, 255, 255]]], shape=(1600, 690, 3), dtype=uint8)\n",
       " orig_shape: (1600, 690)\n",
       " path: 'C:\\\\Users\\\\User\\\\Workspaces\\\\GIT\\\\MangaAutoTranslator\\\\dataset\\\\part_1\\\\00f00892acfa4ebfb947836e44570c2a.jpg'\n",
       " probs: None\n",
       " save_dir: 'runs\\\\detect\\\\predict'\n",
       " speed: {'preprocess': 0.0, 'inference': 45.05610466003418, 'postprocess': 2.417325973510742}]"
      ]
     },
     "execution_count": 11,
     "metadata": {},
     "output_type": "execute_result"
    }
   ],
   "source": [
    "results"
   ]
  },
  {
   "cell_type": "code",
   "execution_count": 12,
   "metadata": {},
   "outputs": [
    {
     "name": "stdout",
     "output_type": "stream",
     "text": [
      "res0: ultralytics.engine.results.Boxes object with attributes:\n",
      "\n",
      "cls: tensor([0., 0., 0., 0., 0., 0., 0., 0.])\n",
      "conf: tensor([0.9527, 0.9521, 0.9295, 0.9146, 0.8577, 0.8029, 0.7445, 0.3302])\n",
      "data: tensor([[9.2867e+01, 8.2085e+02, 3.2479e+02, 9.3590e+02, 9.5269e-01, 0.0000e+00],\n",
      "        [3.6194e+02, 2.4715e+02, 6.0848e+02, 3.2587e+02, 9.5212e-01, 0.0000e+00],\n",
      "        [1.4732e+02, 3.5333e+02, 3.2625e+02, 4.2579e+02, 9.2952e-01, 0.0000e+00],\n",
      "        [3.9435e+01, 1.3043e+03, 1.9638e+02, 1.3698e+03, 9.1457e-01, 0.0000e+00],\n",
      "        [2.4454e+02, 1.1973e+03, 3.3816e+02, 1.2347e+03, 8.5768e-01, 0.0000e+00],\n",
      "        [1.8221e+02, 1.4952e+03, 3.4117e+02, 1.5645e+03, 8.0293e-01, 0.0000e+00],\n",
      "        [6.7427e+01, 1.2568e+03, 5.7232e+02, 1.5105e+03, 7.4448e-01, 0.0000e+00],\n",
      "        [4.4422e+02, 4.6328e+02, 6.2112e+02, 5.4025e+02, 3.3020e-01, 0.0000e+00]])\n",
      "id: None\n",
      "is_track: False\n",
      "orig_shape: (1600, 690)\n",
      "shape: torch.Size([8, 6])\n",
      "xywh: tensor([[ 208.8284,  878.3755,  231.9224,  115.0494],\n",
      "        [ 485.2072,  286.5136,  246.5430,   78.7183],\n",
      "        [ 236.7813,  389.5592,  178.9284,   72.4579],\n",
      "        [ 117.9097, 1337.0557,  156.9493,   65.5304],\n",
      "        [ 291.3507, 1216.0049,   93.6166,   37.3164],\n",
      "        [ 261.6918, 1529.8541,  158.9539,   69.2957],\n",
      "        [ 319.8741, 1383.6741,  504.8942,  253.7201],\n",
      "        [ 532.6698,  501.7639,  176.9040,   76.9698]])\n",
      "xywhn: tensor([[0.3026, 0.5490, 0.3361, 0.0719],\n",
      "        [0.7032, 0.1791, 0.3573, 0.0492],\n",
      "        [0.3432, 0.2435, 0.2593, 0.0453],\n",
      "        [0.1709, 0.8357, 0.2275, 0.0410],\n",
      "        [0.4222, 0.7600, 0.1357, 0.0233],\n",
      "        [0.3793, 0.9562, 0.2304, 0.0433],\n",
      "        [0.4636, 0.8648, 0.7317, 0.1586],\n",
      "        [0.7720, 0.3136, 0.2564, 0.0481]])\n",
      "xyxy: tensor([[  92.8672,  820.8508,  324.7896,  935.9003],\n",
      "        [ 361.9357,  247.1545,  608.4788,  325.8728],\n",
      "        [ 147.3172,  353.3302,  326.2455,  425.7882],\n",
      "        [  39.4351, 1304.2904,  196.3844, 1369.8208],\n",
      "        [ 244.5424, 1197.3467,  338.1590, 1234.6631],\n",
      "        [ 182.2148, 1495.2063,  341.1688, 1564.5020],\n",
      "        [  67.4271, 1256.8141,  572.3212, 1510.5342],\n",
      "        [ 444.2178,  463.2790,  621.1218,  540.2488]])\n",
      "xyxyn: tensor([[0.1346, 0.5130, 0.4707, 0.5849],\n",
      "        [0.5245, 0.1545, 0.8819, 0.2037],\n",
      "        [0.2135, 0.2208, 0.4728, 0.2661],\n",
      "        [0.0572, 0.8152, 0.2846, 0.8561],\n",
      "        [0.3544, 0.7483, 0.4901, 0.7717],\n",
      "        [0.2641, 0.9345, 0.4944, 0.9778],\n",
      "        [0.0977, 0.7855, 0.8295, 0.9441],\n",
      "        [0.6438, 0.2895, 0.9002, 0.3377]]) | {0: 'Text', 1: 'sfx'}\n",
      "----------------\n"
     ]
    }
   ],
   "source": [
    "for i, result in enumerate(results):\n",
    "    print(f\"res{i}: {result.boxes} | {result.names}\")\n",
    "    print(\"----------------\")"
   ]
  },
  {
   "cell_type": "code",
   "execution_count": 32,
   "metadata": {},
   "outputs": [
    {
     "data": {
      "text/plain": [
       "ultralytics.engine.results.Boxes object with attributes:\n",
       "\n",
       "cls: tensor([0.])\n",
       "conf: tensor([0.3302])\n",
       "data: tensor([[4.4422e+02, 4.6328e+02, 6.2112e+02, 5.4025e+02, 3.3020e-01, 0.0000e+00]])\n",
       "id: None\n",
       "is_track: False\n",
       "orig_shape: (1600, 690)\n",
       "shape: torch.Size([1, 6])\n",
       "xywh: tensor([[532.6698, 501.7639, 176.9040,  76.9698]])\n",
       "xywhn: tensor([[0.7720, 0.3136, 0.2564, 0.0481]])\n",
       "xyxy: tensor([[444.2178, 463.2790, 621.1218, 540.2488]])\n",
       "xyxyn: tensor([[0.6438, 0.2895, 0.9002, 0.3377]])"
      ]
     },
     "execution_count": 32,
     "metadata": {},
     "output_type": "execute_result"
    }
   ],
   "source": [
    "result.boxes[7]"
   ]
  },
  {
   "cell_type": "code",
   "execution_count": null,
   "metadata": {},
   "outputs": [],
   "source": []
  }
 ],
 "metadata": {
  "kernelspec": {
   "display_name": "mtl",
   "language": "python",
   "name": "python3"
  },
  "language_info": {
   "codemirror_mode": {
    "name": "ipython",
    "version": 3
   },
   "file_extension": ".py",
   "mimetype": "text/x-python",
   "name": "python",
   "nbconvert_exporter": "python",
   "pygments_lexer": "ipython3",
   "version": "3.11.11"
  }
 },
 "nbformat": 4,
 "nbformat_minor": 2
}
