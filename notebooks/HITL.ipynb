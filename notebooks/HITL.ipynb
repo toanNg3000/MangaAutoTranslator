{
 "cells": [
  {
   "cell_type": "code",
   "execution_count": 4,
   "metadata": {},
   "outputs": [],
   "source": [
    "from ultralytics import YOLO\n",
    "import os\n",
    "import glob\n",
    "from PIL import Image\n",
    "\n",
    "# Load trained YOLOv8 model\n",
    "model = YOLO(\"/media/toannn/A_STORAGE/github/Autotranslate_Manga/MangaAutoTranslator/mltranslator/models/inpainting/comic-speech-bubble-detector.pt\").to('cuda')"
   ]
  },
  {
   "cell_type": "code",
   "execution_count": 8,
   "metadata": {},
   "outputs": [],
   "source": [
    "# print(model.names)\n",
    "def save_predictions_in_yolo_format(predictions, output_dir):\n",
    "    if not os.path.exists(output_dir):\n",
    "        os.makedirs(output_dir)\n",
    "\n",
    "    for prediction in predictions:\n",
    "        file_path = os.path.join(output_dir, f\"{prediction['filename']}.txt\")\n",
    "        with open(file_path, \"w\") as f:\n",
    "            for box in prediction[\"boxes\"]:\n",
    "                f.write(f\"{box['cls']} {box['x_center']} {box['y_center']} {box['width']} {box['height']}\\n\")\n",
    "\n",
    "def get_prediction(output_dir):\n",
    "    image_files = glob.glob(os.path.join(output_dir, \"*.jpg\"))\n",
    "    predictions = []\n",
    "\n",
    "    for image_file in image_files:\n",
    "        image = Image.open(image_file)\n",
    "        result = model.predict(image, conf=0.7, half=True, augment=False, verbose=False)[0]\n",
    "        w, h = image.size\n",
    "        boxes = []\n",
    "        for box in result.boxes:\n",
    "            x_center, y_center, width, height = box.xywh[0]\n",
    "            cls = box.cls\n",
    "            #Only keep text_bubble class\n",
    "            if int(cls.cpu().numpy()) == 0:\n",
    "                boxes.append({\n",
    "                    \"cls\": int(cls.cpu().numpy()),\n",
    "                    \"x_center\": x_center/w,\n",
    "                    \"y_center\": y_center/h,\n",
    "                    \"width\": width/w,\n",
    "                    \"height\": height/h\n",
    "                })\n",
    "\n",
    "        predictions.append({\n",
    "            \"filename\": os.path.splitext(os.path.basename(image_file))[0],\n",
    "            \"boxes\": boxes\n",
    "        })\n",
    "    return predictions"
   ]
  },
  {
   "cell_type": "code",
   "execution_count": 11,
   "metadata": {},
   "outputs": [
    {
     "name": "stderr",
     "output_type": "stream",
     "text": [
      "/tmp/ipykernel_29461/3671622346.py:25: DeprecationWarning: Conversion of an array with ndim > 0 to a scalar is deprecated, and will error in future. Ensure you extract a single element from your array before performing this operation. (Deprecated NumPy 1.25.)\n",
      "  if int(cls.cpu().numpy()) == 0:\n",
      "/tmp/ipykernel_29461/3671622346.py:27: DeprecationWarning: Conversion of an array with ndim > 0 to a scalar is deprecated, and will error in future. Ensure you extract a single element from your array before performing this operation. (Deprecated NumPy 1.25.)\n",
      "  \"cls\": int(cls.cpu().numpy()),\n"
     ]
    },
    {
     "name": "stdout",
     "output_type": "stream",
     "text": [
      "Finished!\n"
     ]
    }
   ],
   "source": [
    "output_dir = \"/home/toannn/Desktop/data/Manhua_part_4/obj_train_data/\"\n",
    "predictions = get_prediction(output_dir)\n",
    "save_predictions_in_yolo_format(predictions, output_dir)\n",
    "print(\"Finished!\")"
   ]
  }
 ],
 "metadata": {
  "kernelspec": {
   "display_name": "autotranslator (3.10.12)",
   "language": "python",
   "name": "python3"
  },
  "language_info": {
   "codemirror_mode": {
    "name": "ipython",
    "version": 3
   },
   "file_extension": ".py",
   "mimetype": "text/x-python",
   "name": "python",
   "nbconvert_exporter": "python",
   "pygments_lexer": "ipython3",
   "version": "3.10.12"
  }
 },
 "nbformat": 4,
 "nbformat_minor": 2
}
