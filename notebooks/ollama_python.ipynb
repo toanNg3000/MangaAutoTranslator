{
 "cells": [
  {
   "cell_type": "code",
   "execution_count": null,
   "metadata": {},
   "outputs": [],
   "source": [
    "from mltranslator.modules.llm import OllamaLLM\n",
    "import ollama\n",
    "from mltranslator.modules.llm import SYSTEM_PROMPT"
   ]
  },
  {
   "cell_type": "code",
   "execution_count": 2,
   "metadata": {},
   "outputs": [
    {
     "data": {
      "text/plain": [
       "ListResponse(models=[Model(model='qwen2.5:7b', modified_at=datetime.datetime(2025, 2, 20, 20, 22, 8, 566335, tzinfo=TzInfo(+07:00)), digest='845dbda0ea48ed749caafd9e6037047aa19acfcfd82e704d7ca97d631a0b697e', size=4683087332, details=ModelDetails(parent_model='', format='gguf', family='qwen2', families=['qwen2'], parameter_size='7.6B', quantization_level='Q4_K_M')), Model(model='llama3:latest', modified_at=datetime.datetime(2024, 7, 18, 21, 1, 39, 340618, tzinfo=TzInfo(+07:00)), digest='365c0bd3c000a25d28ddbf732fe1c6add414de7275464c4e4d1c3b5fcb5d8ad1', size=4661224676, details=ModelDetails(parent_model='', format='gguf', family='llama', families=['llama'], parameter_size='8.0B', quantization_level='Q4_0')), Model(model='phi3:latest', modified_at=datetime.datetime(2024, 7, 13, 11, 1, 36, 980102, tzinfo=TzInfo(+07:00)), digest='d184c916657ef4eaff1908b1955043cec01e7aafd2cef8a5bbfd405a7d35d1fb', size=2176178401, details=ModelDetails(parent_model='', format='gguf', family='phi3', families=['phi3'], parameter_size='3.8B', quantization_level='Q4_0'))])"
      ]
     },
     "execution_count": 2,
     "metadata": {},
     "output_type": "execute_result"
    }
   ],
   "source": [
    "ollama.list()"
   ]
  },
  {
   "cell_type": "markdown",
   "metadata": {},
   "source": [
    "\"options\": {\n",
    "    \"num_keep\": 5,\n",
    "    \"seed\": 42,\n",
    "    \"num_predict\": 100,\n",
    "    \"top_k\": 20,\n",
    "    \"top_p\": 0.9,\n",
    "    \"min_p\": 0.0,\n",
    "    \"typical_p\": 0.7,\n",
    "    \"repeat_last_n\": 33,\n",
    "    \"temperature\": 0.8,\n",
    "    \"repeat_penalty\": 1.2,\n",
    "    \"presence_penalty\": 1.5,\n",
    "    \"frequency_penalty\": 1.0,\n",
    "    \"mirostat\": 1,\n",
    "    \"mirostat_tau\": 0.8,\n",
    "    \"mirostat_eta\": 0.6,\n",
    "    \"penalize_newline\": true,\n",
    "    \"stop\": [\"\\n\", \"user:\"],\n",
    "    \"numa\": false,\n",
    "    \"num_ctx\": 1024,\n",
    "    \"num_batch\": 2,\n",
    "    \"num_gpu\": 1,\n",
    "    \"main_gpu\": 0,\n",
    "    \"low_vram\": false,\n",
    "    \"vocab_only\": false,\n",
    "    \"use_mmap\": true,\n",
    "    \"use_mlock\": false,\n",
    "    \"num_thread\": 8\n",
    "  }"
   ]
  },
  {
   "cell_type": "code",
   "execution_count": null,
   "metadata": {},
   "outputs": [
    {
     "name": "stdout",
     "output_type": "stream",
     "text": [
      "Tại sao trời lại màu xanh?\n"
     ]
    }
   ],
   "source": [
    "from ollama import generate\n",
    "\n",
    "response = generate(\n",
    "    model='qwen2.5:7b',\n",
    "    prompt='Why is the sky blue?',\n",
    "    system=SYSTEM_PROMPT,\n",
    "    options={'temperature': 0.5}\n",
    ")\n",
    "print(response['response'])"
   ]
  },
  {
   "cell_type": "code",
   "execution_count": null,
   "metadata": {},
   "outputs": [],
   "source": []
  }
 ],
 "metadata": {
  "kernelspec": {
   "display_name": "autotranslator",
   "language": "python",
   "name": "python3"
  },
  "language_info": {
   "codemirror_mode": {
    "name": "ipython",
    "version": 3
   },
   "file_extension": ".py",
   "mimetype": "text/x-python",
   "name": "python",
   "nbconvert_exporter": "python",
   "pygments_lexer": "ipython3",
   "version": "3.11.9"
  }
 },
 "nbformat": 4,
 "nbformat_minor": 2
}
