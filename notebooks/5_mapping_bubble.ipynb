{
 "cells": [
  {
   "cell_type": "code",
   "execution_count": 8,
   "metadata": {},
   "outputs": [],
   "source": [
    "text_bboxes = [(1115, 20, 1231, 171),\n",
    " (892, 24, 1048, 362),\n",
    " (1056, 27, 1194, 174),\n",
    " (2101, 33, 2260, 571),\n",
    " (1057, 99, 1155, 175),\n",
    " (606, 165, 680, 362),\n",
    " (1827, 177, 1955, 656),\n",
    " (378, 346, 587, 682),\n",
    " (1670, 384, 1791, 690),\n",
    " (840, 456, 1009, 832),\n",
    " (2131, 621, 2217, 791),\n",
    " (2086, 961, 2213, 1344),\n",
    " (757, 993, 813, 1081),\n",
    " (8, 1046, 416, 1680),\n",
    " (7, 1167, 301, 1673),\n",
    " (1978, 1257, 2075, 1542),\n",
    " (1551, 1591, 1733, 1802),\n",
    " (1406, 1597, 1736, 2089),\n",
    " (1406, 1600, 1569, 2091),\n",
    " (1982, 1775, 2153, 2255),\n",
    " (164, 1960, 224, 2073),\n",
    " (165, 1960, 224, 2073),\n",
    " (325, 2052, 489, 2200),\n",
    " (64, 2065, 114, 2176),\n",
    " (63, 2065, 116, 2178),\n",
    " (127, 2442, 362, 2942),\n",
    " (2133, 2584, 2199, 2760),\n",
    " (635, 2597, 703, 2718),\n",
    " (1853, 2599, 2027, 2976),\n",
    " (478, 2766, 602, 3003),\n",
    " (103, 3021, 366, 3117)]\n",
    "bubble_bboxes = [(2003, 0, 2297, 709),\n",
    " (1789, 129, 1997, 609),\n",
    " (319, 217, 637, 752),\n",
    " (1630, 285, 1855, 760),\n",
    " (2089, 579, 2247, 811),\n",
    " (2012, 872, 2286, 1416),\n",
    " (714, 966, 851, 1108),\n",
    " (1315, 1520, 1716, 2136),\n",
    " (1848, 1673, 2264, 2324),\n",
    " (110, 1912, 282, 2123),\n",
    " (19, 2019, 160, 2222),\n",
    " (78, 2395, 397, 3006),\n",
    " (2068, 2395, 2264, 2818),\n",
    " (1767, 2473, 2100, 3077),\n",
    " (431, 2680, 659, 3083)]"
   ]
  },
  {
   "cell_type": "code",
   "execution_count": 36,
   "metadata": {},
   "outputs": [
    {
     "name": "stdout",
     "output_type": "stream",
     "text": [
      "Text box 3 matched with Bubble box 0 (union_score=1.0)\n",
      "Text box 6 matched with Bubble box 1 (union_score=0.9)\n",
      "Text box 7 matched with Bubble box 2 (union_score=1.0)\n",
      "Text box 8 matched with Bubble box 3 (union_score=1.0)\n",
      "Text box 10 matched with Bubble box 4 (union_score=1.0)\n",
      "Text box 11 matched with Bubble box 5 (union_score=1.0)\n",
      "Text box 12 matched with Bubble box 6 (union_score=1.0)\n",
      "Text box 16 matched with Bubble box 7 (union_score=0.91)\n",
      "Text box 19 matched with Bubble box 8 (union_score=1.0)\n",
      "Text box 20 matched with Bubble box 9 (union_score=1.0)\n",
      "Text box 23 matched with Bubble box 10 (union_score=1.0)\n",
      "Text box 25 matched with Bubble box 11 (union_score=1.0)\n",
      "Text box 26 matched with Bubble box 12 (union_score=1.0)\n",
      "Text box 28 matched with Bubble box 13 (union_score=1.0)\n",
      "Text box 29 matched with Bubble box 14 (union_score=1.0)\n"
     ]
    }
   ],
   "source": [
    "def compute_iou(bubble_bbox, text_bbox):\n",
    "    ax1, ay1, ax2, ay2 = bubble_bbox\n",
    "    bx1, by1, bx2, by2 = text_bbox\n",
    "\n",
    "    ix1 = max(ax1, bx1)\n",
    "    iy1 = max(ay1, by1)\n",
    "    ix2 = min(ax2, bx2)\n",
    "    iy2 = min(ay2, by2)\n",
    "\n",
    "    iw = max(0, ix2 - ix1)\n",
    "    ih = max(0, iy2 - iy1)\n",
    "    intersection = iw * ih\n",
    "\n",
    "    # areaA = (ax2 - ax1) * (ay2 - ay1)\n",
    "    areaB = (bx2 - bx1) * (by2 - by1)\n",
    "    # union = areaA + areaB - intersection\n",
    "    return intersection/areaB\n",
    "    # return intersection / union if union else 0\n",
    "\n",
    "# Threshold for containment\n",
    "THRESHOLD = 0.9\n",
    "\n",
    "# # Copy original lists to avoid modifying them in-place\n",
    "# text_bboxes_2 = text_bboxes.copy()\n",
    "# bubble_bboxes_2 = bubble_bboxes.copy()\n",
    "# print(text_bboxes_2)\n",
    "# print(bubble_bboxes_2)\n",
    "\n",
    "i = 0\n",
    "matched_text_indices = set()\n",
    "matched_bubble_indices = set()\n",
    "matches = []\n",
    "\n",
    "for bubble_index, bubble in enumerate(bubble_bboxes):\n",
    "    if bubble_index in matched_bubble_indices:\n",
    "        continue\n",
    "\n",
    "    for text_index, text in enumerate(text_bboxes):\n",
    "        if text_index in matched_text_indices:\n",
    "            continue\n",
    "\n",
    "        iou = compute_iou(bubble, text)\n",
    "        if iou > THRESHOLD:\n",
    "            matches.append((bubble_index, text_index, round(iou, 2)))\n",
    "            matched_bubble_indices.add(bubble_index)\n",
    "            matched_text_indices.add(text_index)\n",
    "            break  # move to the next bubble\n",
    "\n",
    "# Output matches\n",
    "for bubble_idx, text_idx, iou_score in matches:\n",
    "    \n",
    "    print(f\"Text box {text_idx} matched with Bubble box {bubble_idx} (union_score={iou_score})\")\n"
   ]
  },
  {
   "cell_type": "code",
   "execution_count": 37,
   "metadata": {},
   "outputs": [
    {
     "data": {
      "text/plain": [
       "15"
      ]
     },
     "execution_count": 37,
     "metadata": {},
     "output_type": "execute_result"
    }
   ],
   "source": [
    "len(matches)"
   ]
  },
  {
   "cell_type": "code",
   "execution_count": 38,
   "metadata": {},
   "outputs": [
    {
     "data": {
      "text/plain": [
       "[(0, 3, 1.0),\n",
       " (1, 6, 0.9),\n",
       " (2, 7, 1.0),\n",
       " (3, 8, 1.0),\n",
       " (4, 10, 1.0),\n",
       " (5, 11, 1.0),\n",
       " (6, 12, 1.0),\n",
       " (7, 16, 0.91),\n",
       " (8, 19, 1.0),\n",
       " (9, 20, 1.0),\n",
       " (10, 23, 1.0),\n",
       " (11, 25, 1.0),\n",
       " (12, 26, 1.0),\n",
       " (13, 28, 1.0),\n",
       " (14, 29, 1.0)]"
      ]
     },
     "execution_count": 38,
     "metadata": {},
     "output_type": "execute_result"
    }
   ],
   "source": [
    "matches"
   ]
  }
 ],
 "metadata": {
  "kernelspec": {
   "display_name": "autotranslator (3.10.12)",
   "language": "python",
   "name": "python3"
  },
  "language_info": {
   "codemirror_mode": {
    "name": "ipython",
    "version": 3
   },
   "file_extension": ".py",
   "mimetype": "text/x-python",
   "name": "python",
   "nbconvert_exporter": "python",
   "pygments_lexer": "ipython3",
   "version": "3.10.12"
  }
 },
 "nbformat": 4,
 "nbformat_minor": 2
}
