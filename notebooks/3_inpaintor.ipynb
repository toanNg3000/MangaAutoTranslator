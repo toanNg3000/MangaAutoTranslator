{
 "cells": [
  {
   "cell_type": "code",
   "execution_count": 4,
   "metadata": {},
   "outputs": [],
   "source": [
    "from mltranslator.modules.inpainting.inpaintor import * \n",
    "from mltranslator import PROJECT_DIR\n",
    "from PIL import Image\n",
    "from matplotlib import pyplot as plt"
   ]
  },
  {
   "cell_type": "code",
   "execution_count": 5,
   "metadata": {},
   "outputs": [],
   "source": [
    "my_inpaintor = Inpaintor()"
   ]
  },
  {
   "cell_type": "markdown",
   "metadata": {},
   "source": [
    "The `test2_mask_gt.jpg` is manually drawn for testing purpose."
   ]
  },
  {
   "cell_type": "code",
   "execution_count": 6,
   "metadata": {},
   "outputs": [],
   "source": [
    "image = Image.open(f'{PROJECT_DIR}/dataset/test/test2.jpg')\n",
    "mask = Image.open(f'{PROJECT_DIR}/dataset/test/test2_mask_gt.jpg')\n",
    "\n",
    "# plot image\n",
    "\n",
    "fig, _ = plt.subplots(1,2, figsize=(8,8))\n",
    "fig.axes[0].imshow(image)\n",
    "fig.axes[0].axis(\"off\")\n",
    "fig.axes[0].set_title(\"original image\")\n",
    "fig.axes[1].imshow(mask)\n",
    "fig.axes[1].axis(\"off\")\n",
    "fig.axes[1].set_title(\"mask\")\n",
    "plt.show()"
   ]
  },
  {
   "cell_type": "code",
   "execution_count": 7,
   "metadata": {},
   "outputs": [],
   "source": [
    "inpaint_mask, inpaint_result = my_inpaintor.inpaint_custom(image, np.array(mask))"
   ]
  },
  {
   "cell_type": "code",
   "execution_count": 8,
   "metadata": {},
   "outputs": [],
   "source": [
    "inpaint_result_pil = Image.fromarray(inpaint_result)\n",
    "fig, _ = plt.subplots(1, 2, figsize=(8, 8))\n",
    "fig.axes[0].imshow(image)\n",
    "fig.axes[0].axis(\"off\")\n",
    "fig.axes[0].set_title(\"original image\")\n",
    "fig.axes[1].imshow(inpaint_result_pil)\n",
    "fig.axes[1].axis(\"off\")\n",
    "fig.axes[1].set_title(\"Inpaint image\")\n",
    "plt.show()"
   ]
  },
  {
   "cell_type": "code",
   "execution_count": 9,
   "metadata": {},
   "outputs": [],
   "source": [
    "mask_v2, inpaint_result_v2 = my_inpaintor.inpaint_v2(image)\n",
    "\n",
    "mask_v2_pil = Image.fromarray(mask_v2)\n",
    "inpaint_result_v2_pil = Image.fromarray(inpaint_result_v2)\n",
    "\n",
    "fig, _ = plt.subplots(1,3, figsize=(12,8))\n",
    "fig.axes[0].imshow(image)\n",
    "fig.axes[0].axis(\"off\")\n",
    "fig.axes[0].set_title(\"original image\")\n",
    "fig.axes[1].imshow(inpaint_result_v2_pil)\n",
    "fig.axes[1].axis(\"off\")\n",
    "fig.axes[1].set_title(\"Inpaint image v2\")\n",
    "fig.axes[2].imshow(mask_v2_pil)\n",
    "fig.axes[2].axis(\"off\")\n",
    "fig.axes[2].set_title(\"mask v2\")\n",
    "plt.show()"
   ]
  },
  {
   "cell_type": "code",
   "execution_count": 10,
   "metadata": {},
   "outputs": [],
   "source": [
    "inpaint_result_v2_pil.size, mask_v2_pil.size"
   ]
  },
  {
   "cell_type": "code",
   "execution_count": 11,
   "metadata": {},
   "outputs": [],
   "source": [
    "merged_image = Image.blend(image, mask_v2_pil.convert(\"RGB\"), alpha=0.50)\n",
    "\n",
    "fig, _ = plt.subplots(1,2, figsize=(12,8))\n",
    "fig.axes[0].imshow(merged_image)\n",
    "fig.axes[0].axis(\"off\")\n",
    "fig.axes[0].set_title(\"original image\")\n",
    "fig.axes[1].imshow(inpaint_result_v2_pil)\n",
    "fig.axes[1].axis(\"off\")\n",
    "fig.axes[1].set_title(\"Inpaint image v2\")\n",
    "# fig.axes[2].imshow(Image.fromarray(mask_v2))\n",
    "# fig.axes[2].axis(\"off\")\n",
    "# fig.axes[2].set_title(\"mask v2\")\n",
    "plt.show()\n"
   ]
  }
 ],
 "metadata": {
  "kernelspec": {
   "display_name": "base",
   "language": "python",
   "name": "python3"
  },
  "language_info": {
   "codemirror_mode": {
    "name": "ipython",
    "version": 3
   },
   "file_extension": ".py",
   "mimetype": "text/x-python",
   "name": "python",
   "nbconvert_exporter": "python",
   "pygments_lexer": "ipython3",
   "version": "3.11.11"
  }
 },
 "nbformat": 4,
 "nbformat_minor": 2
}
